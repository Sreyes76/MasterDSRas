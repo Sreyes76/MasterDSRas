{
 "cells": [
  {
   "cell_type": "markdown",
   "id": "48574383-9d7c-4784-be64-9c97602bc35d",
   "metadata": {},
   "source": [
    "Final project module 1"
   ]
  },
  {
   "cell_type": "code",
   "execution_count": 1,
   "id": "9fcb099a-dad4-4a44-b627-809661af7304",
   "metadata": {
    "tags": []
   },
   "outputs": [],
   "source": [
    "import sklearn"
   ]
  }
 ],
 "metadata": {
  "kernelspec": {
   "display_name": "Python 3 (ipykernel)",
   "language": "python",
   "name": "python3"
  },
  "language_info": {
   "codemirror_mode": {
    "name": "ipython",
    "version": 3
   },
   "file_extension": ".py",
   "mimetype": "text/x-python",
   "name": "python",
   "nbconvert_exporter": "python",
   "pygments_lexer": "ipython3",
   "version": "3.9.12"
  }
 },
 "nbformat": 4,
 "nbformat_minor": 5
}
